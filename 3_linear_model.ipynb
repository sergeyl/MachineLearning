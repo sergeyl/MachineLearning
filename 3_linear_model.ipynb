{
 "cells": [
  {
   "cell_type": "code",
   "execution_count": 18,
   "metadata": {},
   "outputs": [],
   "source": [
    "import pandas as pd\n",
    "import numpy as np\n",
    "from sklearn.cross_validation import KFold, cross_val_score, train_test_split\n",
    "from sklearn.metrics import roc_auc_score\n",
    "from sklearn.linear_model import LogisticRegression\n",
    "from sklearn.preprocessing import StandardScaler"
   ]
  },
  {
   "cell_type": "markdown",
   "metadata": {},
   "source": [
    "# 1. Предобработка данных для модели"
   ]
  },
  {
   "cell_type": "code",
   "execution_count": 2,
   "metadata": {
    "collapsed": true
   },
   "outputs": [],
   "source": [
    "# загрузка сырых данных, первичная предобработка\n",
    "def load_data():\n",
    "    train_raw = pd.read_csv('./features.csv', index_col = 'match_id')\n",
    "\n",
    "    # для начала необходимо удалить признаки связанные с исходом матча из train_raw\n",
    "    train_raw.drop(['duration', \n",
    "         'tower_status_radiant', \n",
    "         'tower_status_dire', \n",
    "         'barracks_status_radiant', \n",
    "         'barracks_status_dire'],\n",
    "               axis = 1,\n",
    "               inplace = True)\n",
    "\n",
    "    train_raw = train_raw.fillna(0)\n",
    "\n",
    "    # разделим тренировочный датасет на тренировочные данные и ответы\n",
    "    X = train_raw\n",
    "    y = train_raw['radiant_win'].to_frame()\n",
    "    X.drop(['radiant_win'], axis=1, inplace=True)\n",
    "    \n",
    "    return X, y"
   ]
  },
  {
   "cell_type": "code",
   "execution_count": 3,
   "metadata": {
    "collapsed": true
   },
   "outputs": [],
   "source": [
    "# Нормализуем данные\n",
    "X, y = load_data()\n",
    "scaler = StandardScaler()\n",
    "X_scaled = scaler.fit_transform(X)"
   ]
  },
  {
   "cell_type": "markdown",
   "metadata": {},
   "source": [
    "# 2. Подбор коэффициента регуляризации. Логистическая регрессия."
   ]
  },
  {
   "cell_type": "code",
   "execution_count": 4,
   "metadata": {
    "collapsed": true
   },
   "outputs": [],
   "source": [
    "import time\n",
    "import datetime\n",
    "import matplotlib.pyplot as plt\n",
    "from sklearn.cross_validation import KFold, cross_val_score, train_test_split\n",
    "from sklearn.ensemble import GradientBoostingClassifier\n",
    "from sklearn.metrics import roc_auc_score\n",
    "%matplotlib inline"
   ]
  },
  {
   "cell_type": "code",
   "execution_count": 5,
   "metadata": {
    "collapsed": true
   },
   "outputs": [],
   "source": [
    "# определим фолды\n",
    "kf = KFold(y.size, n_folds = 5, shuffle = True, random_state = 100)"
   ]
  },
  {
   "cell_type": "code",
   "execution_count": 6,
   "metadata": {},
   "outputs": [
    {
     "name": "stdout",
     "output_type": "stream",
     "text": [
      "C =  1e-05  Scores  [ 0.69152745  0.69604819  0.69771913  0.69275268  0.69767226] Time:  0:00:18.283733\n",
      "C =  0.0001  Scores  [ 0.70863071  0.71095164  0.71349729  0.70821998  0.71532146] Time:  0:00:19.021519\n",
      "C =  0.001  Scores  [ 0.71427066  0.71526043  0.71774199  0.71281341  0.72125087] Time:  0:00:20.957606\n",
      "C =  0.01  Scores  [ 0.71449575  0.71540536  0.71756641  0.71288425  0.72170639] Time:  0:00:22.704202\n",
      "C =  0.1  Scores  [ 0.71447166  0.71536882  0.71750102  0.71284082  0.72172155] Time:  0:00:23.383437\n",
      "C =  1.0  Scores  [ 0.71446436  0.71536425  0.71749549  0.71283498  0.72172059] Time:  0:00:24.681767\n",
      "C =  10.0  Scores  [ 0.7144641   0.71536354  0.7174944   0.71283446  0.72172094] Time:  0:00:23.370279\n",
      "C =  100.0  Scores  [ 0.71446403  0.71536341  0.71749399  0.71283413  0.72172084] Time:  0:00:25.723343\n",
      "C =  1000.0  Scores  [ 0.71446397  0.71536336  0.71749404  0.71283412  0.72172085] Time:  0:00:25.814883\n",
      "C =  10000.0  Scores  [ 0.71446396  0.71536335  0.71749405  0.71283412  0.72172083] Time:  0:00:23.225204\n",
      "C =  100000.0  Scores  [ 0.71446396  0.71536335  0.71749405  0.71283412  0.72172082] Time:  0:00:22.710676\n"
     ]
    },
    {
     "data": {
      "image/png": "[encoded data removed]",
      "text/plain": [
       "<matplotlib.figure.Figure at 0xdc851d2ac8>"
      ]
     },
     "metadata": {},
     "output_type": "display_data"
    },
    {
     "name": "stdout",
     "output_type": "stream",
     "text": [
      "Max score:  0.716411631963\n",
      "Best C:  0.01\n"
     ]
    }
   ],
   "source": [
    "# Вспомогательная функция для построения графиков\n",
    "def plot_scores(c_power_range, scores):\n",
    "    plt.plot(c_power_range, scores)\n",
    "    plt.xlabel('log(C)')\n",
    "    plt.ylabel('score')\n",
    "    plt.show()\n",
    "\n",
    "# Вспомогательная функция для тестирования модели с разным коэффициэнтов регуляризации\n",
    "def test_linear_model(X, y):    \n",
    "    c_scores = []\n",
    "    c_power_range = range(-5, 6)\n",
    "    c_range = [10.0 ** i for i in c_power_range]\n",
    "    \n",
    "    for c in c_range:\n",
    "        start_t = datetime.datetime.now()\n",
    "        model = LogisticRegression(C=c, random_state=100, n_jobs=-1)\n",
    "        scores = cross_val_score(model, X, y, cv=kf, scoring='roc_auc', n_jobs=-1)\n",
    "        print('C = ', c, ' Scores ', scores, 'Time: ', datetime.datetime.now() - start_t)        \n",
    "        c_scores.append(np.mean(scores))                    \n",
    "        \n",
    "    plot_scores(c_power_range, c_scores)\n",
    "    print('Max score: ' , max(c_scores))\n",
    "    print('Best C: ', c_range[c_scores.index(max(c_scores))])\n",
    "\n",
    "# проверим модель\n",
    "test_linear_model(X_scaled, y)    "
   ]
  },
  {
   "cell_type": "markdown",
   "metadata": {
    "collapsed": true
   },
   "source": [
    "# Выводы\n",
    "* Наилучшее значение C = 0.01 при этом качество по ROC_AUC = ~0.71\n",
    "<br>\n",
    "* Качество сравнимо с градиентным бустингом на ~200-300 деревьях, время работы при этом значительно меньше"
   ]
  },
  {
   "cell_type": "markdown",
   "metadata": {
    "collapsed": true
   },
   "source": [
    "# 3. Логистическая регрессия, без категориальных признаков"
   ]
  },
  {
   "cell_type": "code",
   "execution_count": 7,
   "metadata": {},
   "outputs": [
    {
     "name": "stdout",
     "output_type": "stream",
     "text": [
      "C =  1e-05  Scores  [ 0.69301063  0.69476367  0.69562225  0.69507488  0.69702952] Time:  0:00:18.137618\n",
      "C =  0.0001  Scores  [ 0.70936502  0.71042199  0.71168956  0.71168269  0.71353648] Time:  0:00:19.898171\n",
      "C =  0.001  Scores  [ 0.71434804  0.71581532  0.71629769  0.7168852   0.71853275] Time:  0:00:20.576119\n",
      "C =  0.01  Scores  [ 0.71450425  0.71622052  0.71627999  0.71725088  0.71854131] Time:  0:00:22.672053\n",
      "C =  0.1  Scores  [ 0.71448206  0.71620992  0.71622569  0.71726917  0.71848436] Time:  0:00:23.365972\n",
      "C =  1.0  Scores  [ 0.71447768  0.71620627  0.7162209   0.71727019  0.71847678] Time:  0:00:23.984102\n",
      "C =  10.0  Scores  [ 0.71447669  0.71620645  0.71621968  0.71727123  0.71847581] Time:  0:00:22.502251\n",
      "C =  100.0  Scores  [ 0.7144767   0.71620624  0.71621963  0.71727119  0.71847569] Time:  0:00:22.529282\n",
      "C =  1000.0  Scores  [ 0.71447667  0.71620624  0.71621965  0.71727119  0.71847569] Time:  0:00:24.500038\n",
      "C =  10000.0  Scores  [ 0.71447668  0.71620627  0.71621961  0.71727117  0.71847569] Time:  0:00:22.631149\n",
      "C =  100000.0  Scores  [ 0.71447668  0.71620627  0.71621961  0.71727117  0.71847569] Time:  0:00:22.852002\n"
     ]
    },
    {
     "data": {
      "image/png": "[encoded data removed]",
      "text/plain": [
       "<matplotlib.figure.Figure at 0xdc852c49b0>"
      ]
     },
     "metadata": {},
     "output_type": "display_data"
    },
    {
     "name": "stdout",
     "output_type": "stream",
     "text": [
      "Max score:  0.716559388563\n",
      "Best C:  0.01\n"
     ]
    }
   ],
   "source": [
    "# удалим категориальные признаки\n",
    "X, y = load_data()\n",
    "\n",
    "X.drop('lobby_type', axis = 1, inplace = True)\n",
    "for n in range(1, 6):\n",
    "    X.drop('r{}_hero'.format(n), axis = 1, inplace = True)\n",
    "    X.drop('d{}_hero'.format(n), axis = 1, inplace = True)\n",
    "  \n",
    "# нормализуем\n",
    "X_scaled = scaler.fit_transform(X)    \n",
    "    \n",
    "# проверим модель\n",
    "kf = KFold(y.size, n_folds=5, shuffle=True, random_state=42)                \n",
    "test_linear_model(X_scaled, y)"
   ]
  },
  {
   "cell_type": "markdown",
   "metadata": {},
   "source": [
    "# Выводы\n",
    "* Наилучшее значение C по прежнему = 0.01 при этом качество по ROC_AUC = ~0.71\n",
    "<br>\n",
    "* Удаление категориальных признаков не повлияло на качество. Модель, скорее всего, выкинула признаки из рассмотрения как маловажные"
   ]
  },
  {
   "cell_type": "markdown",
   "metadata": {},
   "source": [
    "# 4. Логистическая регрессия, без категориальных признаков + мешок слов"
   ]
  },
  {
   "cell_type": "code",
   "execution_count": 8,
   "metadata": {},
   "outputs": [
    {
     "name": "stdout",
     "output_type": "stream",
     "text": [
      "C =  1e-05  Scores  [ 0.69734258  0.698844    0.6995673   0.69941962  0.70103117] Time:  0:00:18.526725\n",
      "C =  0.0001  Scores  [ 0.7237361   0.72409993  0.72458163  0.72605192  0.72684832] Time:  0:00:19.779164\n",
      "C =  0.001  Scores  [ 0.74477849  0.74668328  0.74397291  0.74889226  0.74736143] Time:  0:00:22.321429\n",
      "C =  0.01  Scores  [ 0.74952425  0.7527421   0.74909059  0.75545962  0.75171022] Time:  0:00:25.835947\n",
      "C =  0.1  Scores  [ 0.74946441  0.75310911  0.74936491  0.75604945  0.75156737] Time:  0:00:29.385418\n",
      "C =  1.0  Scores  [ 0.74939012  0.75312646  0.74936582  0.75609138  0.75149749] Time:  0:00:29.398775\n",
      "C =  10.0  Scores  [ 0.74938152  0.753125    0.74936249  0.75609488  0.75148833] Time:  0:00:29.828066\n",
      "C =  100.0  Scores  [ 0.74938119  0.75312471  0.74936219  0.75609553  0.75148705] Time:  0:00:30.068816\n",
      "C =  1000.0  Scores  [ 0.74938108  0.75312467  0.74936207  0.75609551  0.7514866 ] Time:  0:00:32.466564\n",
      "C =  10000.0  Scores  [ 0.74938095  0.75312473  0.74936232  0.7560953   0.75148686] Time:  0:00:30.928603\n",
      "C =  100000.0  Scores  [ 0.74938092  0.75312487  0.74936221  0.75609559  0.751487  ] Time:  0:00:30.168532\n"
     ]
    },
    {
     "data": {
      "image/png": "[encoded data removed]",
      "text/plain": [
       "<matplotlib.figure.Figure at 0xdc851ec668>"
      ]
     },
     "metadata": {},
     "output_type": "display_data"
    },
    {
     "name": "stdout",
     "output_type": "stream",
     "text": [
      "Max score:  0.751911050366\n",
      "Best C:  0.1\n"
     ]
    }
   ],
   "source": [
    "# удалим категориальные признаки\n",
    "X, y = load_data()        \n",
    "X.drop('lobby_type', axis = 1, inplace = True)\n",
    "\n",
    "# обработаем мешок слов из информации о распределении героев (112 героев)\n",
    "X_pick = np.zeros((X.shape[0], 112))\n",
    "\n",
    "for i, match_id in enumerate(X.index):\n",
    "    for p in range(5):\n",
    "        X_pick[i, X.loc[match_id, 'r%d_hero' % (p+1)]-1] = 1\n",
    "        X_pick[i, X.loc[match_id, 'd%d_hero' % (p+1)]-1] = -1            \n",
    "\n",
    "X_hero = pd.DataFrame(X_pick, index=X.index)                \n",
    "\n",
    "# нормализуем и обеденим с мешком\n",
    "X_scaled = pd.DataFrame(scaler.fit_transform(X), index = X.index)\n",
    "X_scaled = pd.concat([X_scaled, X_hero], axis=1)                \n",
    "  \n",
    "# проверим модель\n",
    "kf = KFold(y.size, n_folds=5, shuffle=True, random_state=42)        \n",
    "test_linear_model(X_scaled, y)"
   ]
  },
  {
   "cell_type": "markdown",
   "metadata": {
    "collapsed": true
   },
   "source": [
    "# Выводы\n",
    "* Добавление мешка героев серьезно улучшает качество. При C = 0.01, качество по ROC_AUC = ~0.75\n",
    "<br>\n",
    "* Разреженная матрица подготовленная нами гораздо информативнее для модели"
   ]
  },
  {
   "cell_type": "markdown",
   "metadata": {},
   "source": [
    "# Подготовим результаты для Kaggle"
   ]
  },
  {
   "cell_type": "code",
   "execution_count": 17,
   "metadata": {},
   "outputs": [],
   "source": [
    "test_raw = pd.read_csv('./features_test.csv', index_col = 'match_id')\n",
    "\n",
    "# удалим категориальные признаки\n",
    "test_raw.drop('lobby_type', axis = 1, inplace = True)\n",
    "\n",
    "test_raw = test_raw.fillna(0)\n",
    "\n",
    "# обработаем мешок слов из информации о распределении героев (112 героев)\n",
    "test_pick = np.zeros((test_raw.shape[0], 112))\n",
    "\n",
    "for i, match_id in enumerate(test_raw.index):\n",
    "    for p in range(5):\n",
    "        test_pick[i, test_raw.loc[match_id, 'r%d_hero' % (p+1)]-1] = 1\n",
    "        test_pick[i, test_raw.loc[match_id, 'd%d_hero' % (p+1)]-1] = -1            \n",
    "\n",
    "test_hero = pd.DataFrame(test_pick, index=test_raw.index)                \n",
    "\n",
    "# нормализуем и обеденим с мешком\n",
    "test_scaled = pd.DataFrame(scaler.fit_transform(test_raw), index = test_raw.index)\n",
    "test_scaled = pd.concat([test_scaled, test_hero], axis=1)                \n",
    "  \n",
    "# проверим модель\n",
    "kf = KFold(test_scaled.size, n_folds=5, shuffle=True, random_state=100)        \n",
    "\n",
    "model = LogisticRegression(C=0.1, random_state=100)\n",
    "model.fit(X_scaled, y.values.ravel())\n",
    "y_test = model.predict_proba(test_scaled)[:, 1]\n",
    "\n",
    "# сохраним результаты\n",
    "result = pd.DataFrame({'radiant_win': y_test}, index=test_scaled.index)\n",
    "result.index.name = 'match_id'\n",
    "result.to_csv('./kaggle_results.csv')"
   ]
  },
  {
   "cell_type": "markdown",
   "metadata": {},
   "source": [
    "# Результаты Kaggle\n",
    "\n",
    "Набрано очков: 0.75518\n",
    "<br>\n",
    "Место на момент отправки 577 (09-03-2018)"
   ]
  },
  {
   "cell_type": "code",
   "execution_count": null,
   "metadata": {
    "collapsed": true
   },
   "outputs": [],
   "source": []
  }
 ],
 "metadata": {
  "kernelspec": {
   "display_name": "Python 3",
   "language": "python",
   "name": "python3"
  },
  "language_info": {
   "codemirror_mode": {
    "name": "ipython",
    "version": 3
   },
   "file_extension": ".py",
   "mimetype": "text/x-python",
   "name": "python",
   "nbconvert_exporter": "python",
   "pygments_lexer": "ipython3",
   "version": "3.6.3"
  }
 },
 "nbformat": 4,
 "nbformat_minor": 2
}
