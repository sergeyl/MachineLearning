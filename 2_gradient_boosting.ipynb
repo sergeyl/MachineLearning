{
 "cells": [
  {
   "cell_type": "code",
   "execution_count": 34,
   "metadata": {
    "collapsed": true
   },
   "outputs": [],
   "source": [
    "import pandas as pd\n",
    "import numpy as np"
   ]
  },
  {
   "cell_type": "markdown",
   "metadata": {},
   "source": [
    "# 1. Предобработка данных для модели"
   ]
  },
  {
   "cell_type": "code",
   "execution_count": 35,
   "metadata": {
    "collapsed": true
   },
   "outputs": [],
   "source": [
    "# загрузка сырых данных\n",
    "train_raw = pd.read_csv('./features.csv', index_col = 'match_id')\n",
    "test = pd.read_csv('./features_test.csv', index_col = 'match_id')"
   ]
  },
  {
   "cell_type": "code",
   "execution_count": 36,
   "metadata": {
    "collapsed": true
   },
   "outputs": [],
   "source": [
    "# для начала необходимо удалить признаки связанные с исходом матча из train_raw\n",
    "train_raw.drop(['duration', \n",
    "         'tower_status_radiant', \n",
    "         'tower_status_dire', \n",
    "         'barracks_status_radiant', \n",
    "         'barracks_status_dire'],\n",
    "               axis = 1,\n",
    "               inplace = True)\n",
    "\n",
    "train_raw = train_raw.fillna(0)"
   ]
  },
  {
   "cell_type": "code",
   "execution_count": 37,
   "metadata": {
    "collapsed": true
   },
   "outputs": [],
   "source": [
    "# разделим тренировочный датасет на тренировочные данные и ответы\n",
    "X = train_raw\n",
    "y = train_raw['radiant_win'].to_frame()\n",
    "X.drop(['radiant_win'], axis=1, inplace=True)"
   ]
  },
  {
   "cell_type": "markdown",
   "metadata": {},
   "source": [
    "# 2. Попробуем градиентный бустинг"
   ]
  },
  {
   "cell_type": "code",
   "execution_count": 38,
   "metadata": {
    "collapsed": true
   },
   "outputs": [],
   "source": [
    "import time\n",
    "import datetime\n",
    "import matplotlib.pyplot as plt\n",
    "from sklearn.cross_validation import KFold, cross_val_score, train_test_split\n",
    "from sklearn.ensemble import GradientBoostingClassifier\n",
    "from sklearn.metrics import roc_auc_score\n",
    "%matplotlib inline"
   ]
  },
  {
   "cell_type": "code",
   "execution_count": 39,
   "metadata": {
    "collapsed": true
   },
   "outputs": [],
   "source": [
    "# определим фолды\n",
    "kf = KFold(y.size, n_folds = 5, shuffle = True, random_state = 100)"
   ]
  },
  {
   "cell_type": "code",
   "execution_count": 40,
   "metadata": {},
   "outputs": [
    {
     "name": "stdout",
     "output_type": "stream",
     "text": [
      "Trying  10\n",
      "Time:  0:00:47.719590\n",
      "[ 0.66165034  0.66480756  0.6675309   0.6610796   0.66778999]\n",
      "Trying  20\n",
      "Time:  0:01:30.434678\n",
      "[ 0.68208814  0.6812496   0.68436094  0.67760577  0.68558318]\n",
      "Trying  30\n",
      "Time:  0:01:32.815543\n",
      "[ 0.68961544  0.68761653  0.6917235   0.68538975  0.69276825]\n",
      "Trying  40\n",
      "Time:  0:01:52.265892\n",
      "[ 0.69439493  0.69207347  0.6968409   0.68971842  0.69796541]\n",
      "Trying  50\n",
      "Time:  0:02:12.723152\n",
      "[ 0.69764     0.69569809  0.69987237  0.69304983  0.70124807]\n",
      "Trying  100\n",
      "Time:  0:04:15.133076\n",
      "[ 0.70670196  0.70617433  0.70911064  0.70218747  0.71042098]\n",
      "Trying  150\n",
      "Time:  0:06:18.067154\n",
      "[ 0.71060788  0.7102596   0.71295173  0.70641361  0.71446841]\n"
     ]
    }
   ],
   "source": [
    "gb_scores = []\n",
    "num_trees = [10, 20, 30, 40, 50, 100, 150]\n",
    "for n in num_trees:\n",
    "    print('Trying ', n)\n",
    "    model = GradientBoostingClassifier(n_estimators=n, random_state=100)\n",
    "    start_t = datetime.datetime.now()\n",
    "    scores = cross_val_score(model, X, y, cv=kf, scoring='roc_auc', n_jobs=-1)\n",
    "    print('Time: ', datetime.datetime.now() - start_t)\n",
    "    print(scores)\n",
    "    gb_scores.append(np.mean(scores))\n",
    "    "
   ]
  },
  {
   "cell_type": "code",
   "execution_count": 1,
   "metadata": {},
   "outputs": [
    {
     "ename": "NameError",
     "evalue": "name 'plt' is not defined",
     "output_type": "error",
     "traceback": [
      "\u001b[1;31m---------------------------------------------------------------------------\u001b[0m",
      "\u001b[1;31mNameError\u001b[0m                                 Traceback (most recent call last)",
      "\u001b[1;32m<ipython-input-1-7cc9ad876f7d>\u001b[0m in \u001b[0;36m<module>\u001b[1;34m()\u001b[0m\n\u001b[0;32m      1\u001b[0m \u001b[1;31m# Построим график roc_auc\u001b[0m\u001b[1;33m\u001b[0m\u001b[1;33m\u001b[0m\u001b[0m\n\u001b[1;32m----> 2\u001b[1;33m \u001b[0mplt\u001b[0m\u001b[1;33m.\u001b[0m\u001b[0mplot\u001b[0m\u001b[1;33m(\u001b[0m\u001b[0mnum_trees\u001b[0m\u001b[1;33m,\u001b[0m \u001b[0mgb_scores\u001b[0m\u001b[1;33m)\u001b[0m\u001b[1;33m\u001b[0m\u001b[0m\n\u001b[0m\u001b[0;32m      3\u001b[0m \u001b[0mplt\u001b[0m\u001b[1;33m.\u001b[0m\u001b[0mxlabel\u001b[0m\u001b[1;33m(\u001b[0m\u001b[1;34m'trees'\u001b[0m\u001b[1;33m)\u001b[0m\u001b[1;33m\u001b[0m\u001b[0m\n\u001b[0;32m      4\u001b[0m \u001b[0mplt\u001b[0m\u001b[1;33m.\u001b[0m\u001b[0mylabel\u001b[0m\u001b[1;33m(\u001b[0m\u001b[1;34m'score'\u001b[0m\u001b[1;33m)\u001b[0m\u001b[1;33m\u001b[0m\u001b[0m\n\u001b[0;32m      5\u001b[0m \u001b[0mplt\u001b[0m\u001b[1;33m.\u001b[0m\u001b[0mshow\u001b[0m\u001b[1;33m(\u001b[0m\u001b[1;33m)\u001b[0m\u001b[1;33m\u001b[0m\u001b[0m\n",
      "\u001b[1;31mNameError\u001b[0m: name 'plt' is not defined"
     ]
    }
   ],
   "source": [
    "# Построим график roc_auc\n",
    "plt.plot(num_trees, gb_scores)\n",
    "plt.xlabel('trees')\n",
    "plt.ylabel('score')\n",
    "plt.show()"
   ]
  },
  {
   "cell_type": "markdown",
   "metadata": {
    "collapsed": true
   },
   "source": [
    "# Выводы\n",
    "* Кросс-валидация на 30 деревьях заняла 1мин 32сек и дала ROC-AUC score ~ 0.69\n",
    "<br>\n",
    "* 30-50 решающих деревьев представляется оптимальным. \n",
    "<br>\n",
    "* Возможно увеличение числа деревьев, что несколько повышает качество до ~0.71-0.72\n",
    "<br>\n",
    "* При увеличении числа деревьев, возможно стоит попробовать использовать урезанную выборку для обучения. Возможно имеет смысл ограничить глубину дерева. Эти меры могут привести к уменьшению времени обучения при некотором росте качества модели"
   ]
  },
  {
   "cell_type": "code",
   "execution_count": null,
   "metadata": {
    "collapsed": true
   },
   "outputs": [],
   "source": []
  }
 ],
 "metadata": {
  "kernelspec": {
   "display_name": "Python 3",
   "language": "python",
   "name": "python3"
  },
  "language_info": {
   "codemirror_mode": {
    "name": "ipython",
    "version": 3
   },
   "file_extension": ".py",
   "mimetype": "text/x-python",
   "name": "python",
   "nbconvert_exporter": "python",
   "pygments_lexer": "ipython3",
   "version": "3.6.3"
  }
 },
 "nbformat": 4,
 "nbformat_minor": 2
}
