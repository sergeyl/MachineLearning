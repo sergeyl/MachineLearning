{
 "cells": [
  {
   "cell_type": "code",
   "execution_count": 10,
   "metadata": {
    "collapsed": true
   },
   "outputs": [],
   "source": [
    "import pandas as pd\n",
    "import numpy as np"
   ]
  },
  {
   "cell_type": "markdown",
   "metadata": {},
   "source": [
    "# 1. Предобработка данных для модели"
   ]
  },
  {
   "cell_type": "code",
   "execution_count": 11,
   "metadata": {
    "collapsed": true
   },
   "outputs": [],
   "source": [
    "# загрузка сырых данных\n",
    "train_raw = pd.read_csv('./features.csv', index_col = 'match_id')\n",
    "test = pd.read_csv('./features_test.csv', index_col = 'match_id')"
   ]
  },
  {
   "cell_type": "code",
   "execution_count": 12,
   "metadata": {
    "collapsed": true
   },
   "outputs": [],
   "source": [
    "# для начала необходимо удалить признаки связанные с исходом матча из train_raw\n",
    "train_raw.drop(['duration', \n",
    "         'tower_status_radiant', \n",
    "         'tower_status_dire', \n",
    "         'barracks_status_radiant', \n",
    "         'barracks_status_dire'],\n",
    "               axis = 1,\n",
    "               inplace = True)\n",
    "\n",
    "train_raw = train_raw.fillna(0)"
   ]
  },
  {
   "cell_type": "code",
   "execution_count": 13,
   "metadata": {
    "collapsed": true
   },
   "outputs": [],
   "source": [
    "# разделим тренировочный датасет на тренировочные данные и ответы\n",
    "X = train_raw\n",
    "y = train_raw['radiant_win'].to_frame()\n",
    "X.drop(['radiant_win'], axis=1, inplace=True)"
   ]
  },
  {
   "cell_type": "markdown",
   "metadata": {},
   "source": [
    "# 2. Попробуем градиентный бустинг"
   ]
  },
  {
   "cell_type": "code",
   "execution_count": 14,
   "metadata": {
    "collapsed": true
   },
   "outputs": [],
   "source": [
    "import time\n",
    "import datetime\n",
    "import matplotlib.pyplot as plt\n",
    "from sklearn.cross_validation import KFold, cross_val_score, train_test_split\n",
    "from sklearn.ensemble import GradientBoostingClassifier\n",
    "from sklearn.metrics import roc_auc_score\n",
    "%matplotlib inline"
   ]
  },
  {
   "cell_type": "code",
   "execution_count": 15,
   "metadata": {
    "collapsed": true
   },
   "outputs": [],
   "source": [
    "# определим фолды\n",
    "kf = KFold(y.size, n_folds = 5, shuffle = True, random_state = 100)"
   ]
  },
  {
   "cell_type": "code",
   "execution_count": 16,
   "metadata": {},
   "outputs": [
    {
     "name": "stdout",
     "output_type": "stream",
     "text": [
      "Trying  10\n",
      "Time:  0:00:23.674435\n",
      "[ 0.66165034  0.66480756  0.6675309   0.6610796   0.66778999]\n",
      "Trying  20\n",
      "Time:  0:00:31.302977\n",
      "[ 0.68208814  0.6812496   0.68436094  0.67760577  0.68558318]\n",
      "Trying  30\n",
      "Time:  0:00:36.669124\n",
      "[ 0.68961544  0.68761653  0.6917235   0.68538975  0.69276825]\n",
      "Trying  40\n",
      "Time:  0:00:43.634382\n",
      "[ 0.69439493  0.69207347  0.6968409   0.68971842  0.69796541]\n",
      "Trying  50\n",
      "Time:  0:00:50.834899\n",
      "[ 0.69764     0.69569809  0.69987237  0.69304983  0.70124807]\n",
      "Trying  70\n",
      "Time:  0:01:05.379905\n",
      "[ 0.70227335  0.70118056  0.70435184  0.69785743  0.7061842 ]\n",
      "Trying  100\n",
      "Time:  0:01:28.914845\n",
      "[ 0.70670196  0.70617433  0.70911064  0.70218747  0.71042098]\n",
      "Trying  120\n",
      "Time:  0:01:40.993643\n",
      "[ 0.70842565  0.70789248  0.71087061  0.70410996  0.71201757]\n",
      "Trying  150\n",
      "Time:  0:02:02.709770\n",
      "[ 0.71060788  0.7102596   0.71295173  0.70641361  0.71448623]\n",
      "Trying  200\n",
      "Time:  0:02:41.118411\n",
      "[ 0.71342365  0.71319954  0.71570881  0.70969753  0.71739584]\n",
      "Trying  250\n",
      "Time:  0:03:15.505167\n",
      "[ 0.71536857  0.715158    0.71862341  0.71214282  0.72023786]\n",
      "Trying  300\n",
      "Time:  0:03:50.848556\n",
      "[ 0.71707575  0.71690103  0.72026978  0.71379807  0.72172204]\n",
      "Trying  400\n",
      "Time:  0:04:59.585434\n",
      "[ 0.71864994  0.71919218  0.72244799  0.71651023  0.72406074]\n",
      "Trying  500\n",
      "Time:  0:06:05.430163\n",
      "[ 0.72048377  0.72089955  0.72371959  0.71814037  0.72508258]\n"
     ]
    }
   ],
   "source": [
    "gb_scores = []\n",
    "num_trees = [10, 20, 30, 40, 50, 70, 100, 120, 150, 200, 250, 300, 400, 500]\n",
    "for n in num_trees:\n",
    "    print('Trying ', n)\n",
    "    model = GradientBoostingClassifier(n_estimators=n, random_state=100)\n",
    "    start_t = datetime.datetime.now()\n",
    "    scores = cross_val_score(model, X, y, cv=kf, scoring='roc_auc', n_jobs=-1)\n",
    "    print('Time: ', datetime.datetime.now() - start_t)\n",
    "    print(scores)\n",
    "    gb_scores.append(np.mean(scores))\n",
    "    "
   ]
  },
  {
   "cell_type": "code",
   "execution_count": 17,
   "metadata": {},
   "outputs": [
    {
     "data": {
      "image/png": "[encoded data removed]",
      "text/plain": [
       "<matplotlib.figure.Figure at 0x44061f7fd0>"
      ]
     },
     "metadata": {},
     "output_type": "display_data"
    }
   ],
   "source": [
    "# Построим график roc_auc\n",
    "plt.plot(num_trees, gb_scores)\n",
    "plt.xlabel('trees')\n",
    "plt.ylabel('score')\n",
    "plt.show()"
   ]
  },
  {
   "cell_type": "markdown",
   "metadata": {
    "collapsed": true
   },
   "source": [
    "# Выводы\n",
    "* Кросс-валидация на 30 деревьях заняла 36сек и дала ROC-AUC score ~ 0.69\n",
    "<br>\n",
    "* 70-100 решающих деревьев представляется оптимальным. \n",
    "<br>\n",
    "* Возможно увеличение числа деревьев, что несколько повышает качество до ~0.71-0.72\n",
    "<br>\n",
    "* При увеличении числа деревьев, возможно стоит попробовать использовать урезанную выборку для обучения. Возможно имеет смысл ограничить глубину дерева. Эти меры могут привести к уменьшению времени обучения при некотором росте качества модели"
   ]
  },
  {
   "cell_type": "code",
   "execution_count": null,
   "metadata": {
    "collapsed": true
   },
   "outputs": [],
   "source": []
  }
 ],
 "metadata": {
  "kernelspec": {
   "display_name": "Python 3",
   "language": "python",
   "name": "python3"
  },
  "language_info": {
   "codemirror_mode": {
    "name": "ipython",
    "version": 3
   },
   "file_extension": ".py",
   "mimetype": "text/x-python",
   "name": "python",
   "nbconvert_exporter": "python",
   "pygments_lexer": "ipython3",
   "version": "3.6.3"
  }
 },
 "nbformat": 4,
 "nbformat_minor": 2
}
